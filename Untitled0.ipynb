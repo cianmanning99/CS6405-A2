{
  "nbformat": 4,
  "nbformat_minor": 0,
  "metadata": {
    "colab": {
      "name": "Untitled0.ipynb",
      "provenance": []
    },
    "kernelspec": {
      "name": "python3",
      "display_name": "Python 3"
    },
    "language_info": {
      "name": "python"
    }
  },
  "cells": [
    {
      "cell_type": "code",
      "execution_count": null,
      "metadata": {
        "id": "qhZr9C_BI-xg"
      },
      "outputs": [],
      "source": [
        "pipe_svm=Pipeline([('scaler',PowerTransformer()),\n",
        "                  ('dimensionality',PCA(n_components=14)),\n",
        "                  ('classifier',svm.SVC(random_state=0))])"
      ]
    }
  ]
}